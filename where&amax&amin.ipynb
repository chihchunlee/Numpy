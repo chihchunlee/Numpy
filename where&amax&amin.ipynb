{
 "cells": [
  {
   "cell_type": "markdown",
   "id": "4c3938f5",
   "metadata": {},
   "source": [
    "# where"
   ]
  },
  {
   "cell_type": "code",
   "execution_count": 1,
   "id": "8726e041",
   "metadata": {},
   "outputs": [],
   "source": [
    "import numpy as np"
   ]
  },
  {
   "cell_type": "code",
   "execution_count": 2,
   "id": "d06b622b",
   "metadata": {},
   "outputs": [],
   "source": [
    "a = np.arange(20, 0, -2)"
   ]
  },
  {
   "cell_type": "code",
   "execution_count": 3,
   "id": "70050aa6",
   "metadata": {},
   "outputs": [
    {
     "data": {
      "text/plain": [
       "array([20, 18, 16, 14, 12, 10,  8,  6,  4,  2])"
      ]
     },
     "execution_count": 3,
     "metadata": {},
     "output_type": "execute_result"
    }
   ],
   "source": [
    "a"
   ]
  },
  {
   "cell_type": "markdown",
   "id": "b992b9ee",
   "metadata": {},
   "source": [
    "#### index 6,7,8,9 "
   ]
  },
  {
   "cell_type": "code",
   "execution_count": 4,
   "id": "b3ef9a09",
   "metadata": {},
   "outputs": [
    {
     "data": {
      "text/plain": [
       "(array([6, 7, 8, 9]),)"
      ]
     },
     "execution_count": 4,
     "metadata": {},
     "output_type": "execute_result"
    }
   ],
   "source": [
    "np.where(a < 10)"
   ]
  },
  {
   "cell_type": "markdown",
   "id": "335a4a7c",
   "metadata": {},
   "source": [
    "#### array 8,6,4,2"
   ]
  },
  {
   "cell_type": "code",
   "execution_count": 5,
   "id": "6a23caa3",
   "metadata": {},
   "outputs": [
    {
     "data": {
      "text/plain": [
       "array([8, 6, 4, 2])"
      ]
     },
     "execution_count": 5,
     "metadata": {},
     "output_type": "execute_result"
    }
   ],
   "source": [
    "a[np.where(a < 10)]"
   ]
  },
  {
   "cell_type": "code",
   "execution_count": 6,
   "id": "05c1e267",
   "metadata": {},
   "outputs": [],
   "source": [
    "a1 = np.arange(12).reshape((3,4))"
   ]
  },
  {
   "cell_type": "code",
   "execution_count": 7,
   "id": "b7f0f83f",
   "metadata": {},
   "outputs": [
    {
     "data": {
      "text/plain": [
       "array([[ 0,  1,  2,  3],\n",
       "       [ 4,  5,  6,  7],\n",
       "       [ 8,  9, 10, 11]])"
      ]
     },
     "execution_count": 7,
     "metadata": {},
     "output_type": "execute_result"
    }
   ],
   "source": [
    "a1"
   ]
  },
  {
   "cell_type": "code",
   "execution_count": 8,
   "id": "bbb6c74e",
   "metadata": {},
   "outputs": [
    {
     "data": {
      "text/plain": [
       "(array([0, 0, 1, 1, 2, 2]), array([0, 2, 0, 2, 0, 2]))"
      ]
     },
     "execution_count": 8,
     "metadata": {},
     "output_type": "execute_result"
    }
   ],
   "source": [
    "np.where(a1 % 2 == 0)"
   ]
  },
  {
   "cell_type": "code",
   "execution_count": 9,
   "id": "299ebf91",
   "metadata": {},
   "outputs": [
    {
     "data": {
      "text/plain": [
       "array([ 0,  2,  4,  6,  8, 10])"
      ]
     },
     "execution_count": 9,
     "metadata": {},
     "output_type": "execute_result"
    }
   ],
   "source": [
    "a1[np.where(a1 % 2 == 0)]"
   ]
  },
  {
   "cell_type": "markdown",
   "id": "9d37ec44",
   "metadata": {},
   "source": [
    "# 置換\n",
    "#### a1%2==0 True-even False-odd"
   ]
  },
  {
   "cell_type": "code",
   "execution_count": 11,
   "id": "1b6b4d5a",
   "metadata": {},
   "outputs": [
    {
     "data": {
      "text/plain": [
       "array([['even', 'odd', 'even', 'odd'],\n",
       "       ['even', 'odd', 'even', 'odd'],\n",
       "       ['even', 'odd', 'even', 'odd']], dtype='<U4')"
      ]
     },
     "execution_count": 11,
     "metadata": {},
     "output_type": "execute_result"
    }
   ],
   "source": [
    "np.where(a1%2==0, 'even', 'odd')"
   ]
  },
  {
   "cell_type": "code",
   "execution_count": 12,
   "id": "169df4b1",
   "metadata": {},
   "outputs": [],
   "source": [
    "b = np.reshape(a1, (3,4))"
   ]
  },
  {
   "cell_type": "code",
   "execution_count": 13,
   "id": "df95df51",
   "metadata": {},
   "outputs": [
    {
     "data": {
      "text/plain": [
       "array([[ 0,  1,  2,  3],\n",
       "       [ 4,  5,  6,  7],\n",
       "       [ 8,  9, 10, 11]])"
      ]
     },
     "execution_count": 13,
     "metadata": {},
     "output_type": "execute_result"
    }
   ],
   "source": [
    "b"
   ]
  },
  {
   "cell_type": "code",
   "execution_count": 14,
   "id": "4b93518f",
   "metadata": {},
   "outputs": [],
   "source": [
    "c = b ** 2"
   ]
  },
  {
   "cell_type": "code",
   "execution_count": 15,
   "id": "0cc69980",
   "metadata": {},
   "outputs": [
    {
     "data": {
      "text/plain": [
       "array([[  0,   1,   4,   9],\n",
       "       [ 16,  25,  36,  49],\n",
       "       [ 64,  81, 100, 121]])"
      ]
     },
     "execution_count": 15,
     "metadata": {},
     "output_type": "execute_result"
    }
   ],
   "source": [
    "c"
   ]
  },
  {
   "cell_type": "code",
   "execution_count": 16,
   "id": "c3b078d9",
   "metadata": {},
   "outputs": [
    {
     "data": {
      "text/plain": [
       "array([[  0,   1,   2,   9],\n",
       "       [  4,  25,   6,  49],\n",
       "       [  8,  81,  10, 121]])"
      ]
     },
     "execution_count": 16,
     "metadata": {},
     "output_type": "execute_result"
    }
   ],
   "source": [
    "np.where(b%2==0 , b, c)"
   ]
  },
  {
   "cell_type": "markdown",
   "id": "aad84a35",
   "metadata": {},
   "source": [
    "# amax"
   ]
  },
  {
   "cell_type": "code",
   "execution_count": 17,
   "id": "0920881b",
   "metadata": {},
   "outputs": [
    {
     "data": {
      "text/plain": [
       "3"
      ]
     },
     "execution_count": 17,
     "metadata": {},
     "output_type": "execute_result"
    }
   ],
   "source": [
    "np.amax(np.array([1,2,3,2,1]))"
   ]
  },
  {
   "cell_type": "code",
   "execution_count": 18,
   "id": "49152e1a",
   "metadata": {},
   "outputs": [],
   "source": [
    "arr = np.array([1,2,3,4]).reshape((2,2))"
   ]
  },
  {
   "cell_type": "code",
   "execution_count": 19,
   "id": "d0fcfc89",
   "metadata": {},
   "outputs": [
    {
     "data": {
      "text/plain": [
       "array([[1, 2],\n",
       "       [3, 4]])"
      ]
     },
     "execution_count": 19,
     "metadata": {},
     "output_type": "execute_result"
    }
   ],
   "source": [
    "arr"
   ]
  },
  {
   "cell_type": "code",
   "execution_count": 20,
   "id": "8253f762",
   "metadata": {},
   "outputs": [
    {
     "data": {
      "text/plain": [
       "array([3, 4])"
      ]
     },
     "execution_count": 20,
     "metadata": {},
     "output_type": "execute_result"
    }
   ],
   "source": [
    "np.amax(arr, axis=0)"
   ]
  },
  {
   "cell_type": "code",
   "execution_count": 21,
   "id": "d58cf4c8",
   "metadata": {},
   "outputs": [
    {
     "data": {
      "text/plain": [
       "array([2, 4])"
      ]
     },
     "execution_count": 21,
     "metadata": {},
     "output_type": "execute_result"
    }
   ],
   "source": [
    "np.amax(arr, axis=1)"
   ]
  },
  {
   "cell_type": "code",
   "execution_count": 22,
   "id": "869338f0",
   "metadata": {},
   "outputs": [
    {
     "data": {
      "text/plain": [
       "array([[4]])"
      ]
     },
     "execution_count": 22,
     "metadata": {},
     "output_type": "execute_result"
    }
   ],
   "source": [
    "np.amax(arr, keepdims=True)"
   ]
  },
  {
   "cell_type": "code",
   "execution_count": 23,
   "id": "ae7086e1",
   "metadata": {},
   "outputs": [],
   "source": [
    "b1 = np.random.randint(30, size=(2,3,5))"
   ]
  },
  {
   "cell_type": "code",
   "execution_count": 24,
   "id": "3d19b197",
   "metadata": {},
   "outputs": [
    {
     "data": {
      "text/plain": [
       "array([[[28,  4, 27, 27,  1],\n",
       "        [ 7, 20,  8, 20, 13],\n",
       "        [24,  8, 14, 26,  6]],\n",
       "\n",
       "       [[12, 11, 26, 12,  9],\n",
       "        [27,  0,  8, 20, 15],\n",
       "        [ 2, 20, 25, 29, 26]]])"
      ]
     },
     "execution_count": 24,
     "metadata": {},
     "output_type": "execute_result"
    }
   ],
   "source": [
    "b1"
   ]
  },
  {
   "cell_type": "code",
   "execution_count": 25,
   "id": "15d7c5d9",
   "metadata": {},
   "outputs": [
    {
     "data": {
      "text/plain": [
       "array([[28, 11, 27, 27,  9],\n",
       "       [27, 20,  8, 20, 15],\n",
       "       [24, 20, 25, 29, 26]])"
      ]
     },
     "execution_count": 25,
     "metadata": {},
     "output_type": "execute_result"
    }
   ],
   "source": [
    "b1.max(axis=0)"
   ]
  },
  {
   "cell_type": "code",
   "execution_count": 26,
   "id": "494aecfb",
   "metadata": {},
   "outputs": [
    {
     "data": {
      "text/plain": [
       "array([[28, 20, 27, 27, 13],\n",
       "       [27, 20, 26, 29, 26]])"
      ]
     },
     "execution_count": 26,
     "metadata": {},
     "output_type": "execute_result"
    }
   ],
   "source": [
    "b1.max(axis=1)"
   ]
  },
  {
   "cell_type": "code",
   "execution_count": 27,
   "id": "3dd02e30",
   "metadata": {},
   "outputs": [
    {
     "data": {
      "text/plain": [
       "array([[28, 20, 26],\n",
       "       [26, 27, 29]])"
      ]
     },
     "execution_count": 27,
     "metadata": {},
     "output_type": "execute_result"
    }
   ],
   "source": [
    "b1.max(axis=2)"
   ]
  },
  {
   "cell_type": "markdown",
   "id": "a5d68809",
   "metadata": {},
   "source": [
    "# amin"
   ]
  },
  {
   "cell_type": "code",
   "execution_count": 32,
   "id": "bb767f09",
   "metadata": {},
   "outputs": [
    {
     "data": {
      "text/plain": [
       "array([[[12,  4, 26, 12,  1],\n",
       "        [ 7,  0,  8, 20, 13],\n",
       "        [ 2,  8, 14, 26,  6]]])"
      ]
     },
     "execution_count": 32,
     "metadata": {},
     "output_type": "execute_result"
    }
   ],
   "source": [
    "b1.min(axis=0, keepdims=True)"
   ]
  },
  {
   "cell_type": "code",
   "execution_count": 33,
   "id": "6ef446b2",
   "metadata": {},
   "outputs": [
    {
     "data": {
      "text/plain": [
       "array([[[ 7,  4,  8, 20,  1]],\n",
       "\n",
       "       [[ 2,  0,  8, 12,  9]]])"
      ]
     },
     "execution_count": 33,
     "metadata": {},
     "output_type": "execute_result"
    }
   ],
   "source": [
    "b1.min(axis=1, keepdims=True)"
   ]
  },
  {
   "cell_type": "code",
   "execution_count": 34,
   "id": "04e8829d",
   "metadata": {},
   "outputs": [
    {
     "data": {
      "text/plain": [
       "array([[[1],\n",
       "        [7],\n",
       "        [6]],\n",
       "\n",
       "       [[9],\n",
       "        [0],\n",
       "        [2]]])"
      ]
     },
     "execution_count": 34,
     "metadata": {},
     "output_type": "execute_result"
    }
   ],
   "source": [
    "b1.min(axis=2, keepdims=True)"
   ]
  },
  {
   "cell_type": "code",
   "execution_count": null,
   "id": "8949fa7c",
   "metadata": {},
   "outputs": [],
   "source": []
  }
 ],
 "metadata": {
  "kernelspec": {
   "display_name": "Python 3",
   "language": "python",
   "name": "python3"
  },
  "language_info": {
   "codemirror_mode": {
    "name": "ipython",
    "version": 3
   },
   "file_extension": ".py",
   "mimetype": "text/x-python",
   "name": "python",
   "nbconvert_exporter": "python",
   "pygments_lexer": "ipython3",
   "version": "3.8.8"
  }
 },
 "nbformat": 4,
 "nbformat_minor": 5
}
