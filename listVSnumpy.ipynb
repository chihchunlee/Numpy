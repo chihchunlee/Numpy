{
 "cells": [
  {
   "cell_type": "code",
   "execution_count": 9,
   "id": "2f61ca84",
   "metadata": {},
   "outputs": [],
   "source": [
    "import numpy as np\n",
    "import time"
   ]
  },
  {
   "cell_type": "code",
   "execution_count": 10,
   "id": "f163fca5",
   "metadata": {},
   "outputs": [],
   "source": [
    "def calculate_time():\n",
    "    a = np.random.randn(100000)\n",
    "    b = list(a)\n",
    "    \n",
    "    start_time = time.time()\n",
    "    for _ in range(1000):\n",
    "        sum_1 = np.sum(a)\n",
    "    \n",
    "    print(\"Using Numpy\\t %f sec\" % (time.time()-start_time))\n",
    "    \n",
    "    start_time = time.time()\n",
    "    for _ in range(1000):\n",
    "        sum_2 = sum(b)\n",
    "    \n",
    "    print(\"Not using Numpy\\t %f sec\" % (time.time()-start_time))"
   ]
  },
  {
   "cell_type": "code",
   "execution_count": 11,
   "id": "582f7b14",
   "metadata": {},
   "outputs": [
    {
     "name": "stdout",
     "output_type": "stream",
     "text": [
      "Using Numpy\t 0.039128 sec\n",
      "Not using Numpy\t 3.709038 sec\n"
     ]
    }
   ],
   "source": [
    "calculate_time()"
   ]
  }
 ],
 "metadata": {
  "kernelspec": {
   "display_name": "Python 3",
   "language": "python",
   "name": "python3"
  },
  "language_info": {
   "codemirror_mode": {
    "name": "ipython",
    "version": 3
   },
   "file_extension": ".py",
   "mimetype": "text/x-python",
   "name": "python",
   "nbconvert_exporter": "python",
   "pygments_lexer": "ipython3",
   "version": "3.8.8"
  }
 },
 "nbformat": 4,
 "nbformat_minor": 5
}
